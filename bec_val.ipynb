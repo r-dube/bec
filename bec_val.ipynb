{
 "cells": [
  {
   "cell_type": "code",
   "execution_count": null,
   "id": "920a103d-e592-4767-9dae-06b2cfc3a01c",
   "metadata": {},
   "outputs": [],
   "source": [
    "import os\n",
    "import pandas as pd\n",
    "import wget\n",
    "import openai\n",
    "import dspy\n",
    "from dotenv import load_dotenv\n",
    "import csv"
   ]
  },
  {
   "cell_type": "code",
   "execution_count": null,
   "id": "1fb9513d-aed2-438e-8a3a-1491a9e5a1cc",
   "metadata": {},
   "outputs": [],
   "source": [
    "# files used by the system\n",
    "eg_file = './data/bec_examples_split.csv'\n",
    "db1_file = './data/BEC-1.csv'\n",
    "db2_file = './data/BEC-2.csv'\n",
    "lb1_file = './data/BEC-1-label.csv'\n",
    "lb2_file = './data/BEC-2-label.csv'\n",
    "bec1_file = './data/BEC-1-human.csv'\n",
    "bec2_file = './data/BEC-2-human.csv'"
   ]
  },
  {
   "cell_type": "code",
   "execution_count": null,
   "id": "2f2e6891-ffaf-4fc6-9175-1c1d391a78ae",
   "metadata": {},
   "outputs": [],
   "source": [
    "BEC1_SAMPLES = 5 \n",
    "BEC2_SAMPLES = 75"
   ]
  },
  {
   "cell_type": "code",
   "execution_count": null,
   "id": "f33b8004-1ae6-4793-a2fe-adff9cc3fb1c",
   "metadata": {},
   "outputs": [],
   "source": [
    "db_file = db1_file # db1_file or db2_file\n",
    "lb_file = lb1_file # lb1_file or lb2_file\n",
    "bec_file = bec1_file # bec1_file or bec2_file\n",
    "SAMPLES = BEC1_SAMPLES # BEC1_SAMPLES or BEC2_SAMPLES per example"
   ]
  },
  {
   "cell_type": "code",
   "execution_count": null,
   "id": "0a10ad43-77ee-4bb7-8ca4-fc7b748696ad",
   "metadata": {},
   "outputs": [],
   "source": [
    "# keep the API keys in a `.env` file in the local root directory\n",
    "load_dotenv()\n",
    "openai_key = os.getenv('OPENAI_API_KEY')  \n",
    "lm = dspy.OpenAI(model='gpt-3.5-turbo', api_key=openai_key) # language model is openai's 3.5-turbo\n",
    "dspy.settings.configure(lm=lm)"
   ]
  },
  {
   "cell_type": "code",
   "execution_count": null,
   "id": "1ca08b38-d223-4743-b3eb-3c1c36ed66ba",
   "metadata": {},
   "outputs": [],
   "source": [
    "df_bec = pd.read_csv(db_file, header=None, names=['subject', 'body'])\n",
    "print (db_file, \"has \", len(df_bec), \" entries\")"
   ]
  },
  {
   "cell_type": "code",
   "execution_count": null,
   "id": "81bdecd8-8420-47cb-8f2c-816651f9219f",
   "metadata": {},
   "outputs": [],
   "source": [
    "df_bec.head()"
   ]
  },
  {
   "cell_type": "code",
   "execution_count": null,
   "id": "3020dcb6-0544-45ce-b70e-bb2fa49016c1",
   "metadata": {},
   "outputs": [],
   "source": [
    "df_bec.iloc[0]['subject']"
   ]
  },
  {
   "cell_type": "code",
   "execution_count": null,
   "id": "0a92575f-162c-4fe2-a511-be3346e15e6c",
   "metadata": {},
   "outputs": [],
   "source": [
    "df_bec.iloc[0]['body']"
   ]
  },
  {
   "cell_type": "code",
   "execution_count": null,
   "id": "eacb83e3-5fd4-4cc5-91df-9a32979b0308",
   "metadata": {},
   "outputs": [],
   "source": [
    "# signature to determine label\n",
    "class EmailLabel1(dspy.Signature):\n",
    "    \"\"\"\n",
    "        To generate the label follow these steps:\n",
    "        1. Does the email appear to be related to business? Score 1 if yes, 0 if no\n",
    "        2. Does the email have an authoritative tone? Score 1 if yes, 0 if no\n",
    "        3. Does the email ask the recipient to take an action related to an organization? Score 1 if yes, 0 if no\n",
    "        4. Does the email convey urgency? Score if yes, 0 if no\n",
    "        5. Add the scores from steps 1, 2, 3, 4 to get a total\n",
    "        6. Determine the label as follows:\n",
    "            a) If the total is 4, the label is positive\n",
    "            b) If the total is 2 or 3, the label is neutral\n",
    "            c) If the total is 0 or 1, the label is negative\n",
    "        7. Output the four scores, the total and the one-word label\n",
    "    \"\"\"\n",
    "    email = dspy.InputField(desc=\"an email in english\")\n",
    "    score_business = dspy.OutputField(desc=\"score for business\")\n",
    "    score_authority =  dspy.OutputField(desc=\"score for authority\")\n",
    "    score_action = dspy.OutputField(desc=\"score for action\")\n",
    "    score_urgency = dspy.OutputField(desc=\"score for urgency\")\n",
    "    total = dspy.OutputField(desc=\"total\")\n",
    "    label = dspy.OutputField(desc=\"label\")\n",
    "\n",
    "# the validation model\n",
    "class EmailVal1(dspy.Module):\n",
    "    def __init__(self): \n",
    "        super().__init__()\n",
    "        self.generate_label = dspy.Predict(EmailLabel1) \n",
    "    \n",
    "    def forward(self, email, index):\n",
    "        return self.generate_label(email=email, config=dict(temperature=0.0001*index))"
   ]
  },
  {
   "cell_type": "code",
   "execution_count": null,
   "id": "b3e205d5-7390-4321-a105-4b7225e22948",
   "metadata": {},
   "outputs": [],
   "source": [
    "def create_labeled_output(subject, body, label):\n",
    "    with open(lb_file,'a') as result_file:\n",
    "        wr = csv.writer(result_file)\n",
    "        wr.writerow([subject, body, label])"
   ]
  },
  {
   "cell_type": "code",
   "execution_count": null,
   "id": "24424be7-58fc-4705-ab35-470392d5f649",
   "metadata": {},
   "outputs": [],
   "source": [
    "try:\n",
    "    os.remove(lb_file)\n",
    "except OSError:\n",
    "    pass"
   ]
  },
  {
   "cell_type": "code",
   "execution_count": null,
   "id": "c2b5c3fc-2959-4759-841d-d083f8f0a4ea",
   "metadata": {},
   "outputs": [],
   "source": [
    "val_model = EmailVal1()\n",
    "num_samples = len(df_bec)\n",
    "for i in range(num_samples):\n",
    "    subject = df_bec.iloc[i]['subject']\n",
    "    body = df_bec.iloc[i]['body']\n",
    "    email = subject + \"\\n\" + body\n",
    "    label = val_model(email=email, index=i)\n",
    "    lbl = label.label.lower()\n",
    "    create_labeled_output(subject, body, lbl)\n",
    "    print (i, lbl)\n",
    "    if (lbl != \"positive\"):\n",
    "        lm.inspect_history(n=1)\n",
    "        pass"
   ]
  },
  {
   "cell_type": "code",
   "execution_count": null,
   "id": "baca79ca-508e-4fe6-87ae-e3089620bf8c",
   "metadata": {},
   "outputs": [],
   "source": [
    "# inspect the prompt to the LLM\n",
    "lm.inspect_history(n=1)"
   ]
  },
  {
   "cell_type": "code",
   "execution_count": null,
   "id": "1fc100d5-5c46-4519-87e3-37bba8f20296",
   "metadata": {},
   "outputs": [],
   "source": [
    "# validate the non-positive email examples\n",
    "# first load the requisite examples\n",
    "df_eg = pd.read_csv(eg_file)\n",
    "print (eg_file, \"has \", len(df_eg), \" entries\")"
   ]
  },
  {
   "cell_type": "code",
   "execution_count": null,
   "id": "2c0a661b-ec5a-4275-97fc-3bb3a4dd5b0b",
   "metadata": {},
   "outputs": [],
   "source": [
    "# then use the model above to generate a label using the rubric\n",
    "val_model_examples = EmailVal1()\n",
    "num_samples = len(df_eg)\n",
    "for i in range(num_samples):\n",
    "    subject = df_eg.iloc[i]['subject']\n",
    "    body = df_eg.iloc[i]['body']\n",
    "    email = subject + \"\\n\" + body\n",
    "    label = val_model_examples(email=email, index=i)\n",
    "    lbl = label.label.lower()\n",
    "    print (i, lbl)"
   ]
  },
  {
   "cell_type": "code",
   "execution_count": null,
   "id": "bbe7da36-462a-48b5-83d1-68dca1a7f584",
   "metadata": {},
   "outputs": [],
   "source": [
    "lm.inspect_history(n=3)"
   ]
  },
  {
   "cell_type": "code",
   "execution_count": null,
   "id": "07049c09-6642-4906-a4c8-586234e31b5d",
   "metadata": {},
   "outputs": [],
   "source": [
    "df_bec_alt = pd.read_csv(lb_file, header=None, names=['subject', 'body', 'label'])\n",
    "print (lb_file, \"has \", len(df_bec_alt), \" entries\")\n",
    "df_bec_alt.describe()"
   ]
  },
  {
   "cell_type": "code",
   "execution_count": null,
   "id": "35a56d06-eb89-469c-9fdb-7e911a65490a",
   "metadata": {},
   "outputs": [],
   "source": [
    "df_bec_alt['label'].value_counts()"
   ]
  },
  {
   "cell_type": "code",
   "execution_count": null,
   "id": "8ed4c37e-8c80-48b0-818f-eb56b4a8f571",
   "metadata": {},
   "outputs": [],
   "source": [
    "df_bec_alt['label'].nunique()"
   ]
  },
  {
   "cell_type": "code",
   "execution_count": null,
   "id": "06b5f397-6303-4ec2-b131-89b890ca1901",
   "metadata": {},
   "outputs": [],
   "source": [
    "df_bec_alt['subject'].nunique()"
   ]
  },
  {
   "cell_type": "code",
   "execution_count": null,
   "id": "6685c93e-47c8-40f8-b097-c831e2039ba6",
   "metadata": {},
   "outputs": [],
   "source": [
    "df_bec_alt['body'].nunique()"
   ]
  },
  {
   "cell_type": "code",
   "execution_count": null,
   "id": "ceebd62e-e464-4ef9-8c4a-a064fd1c5bbe",
   "metadata": {},
   "outputs": [],
   "source": [
    "# drop rows which have same subject\n",
    "# and body and keep latest entry \n",
    "df_bec2 = df_bec_alt.drop_duplicates( \n",
    "  subset = ['subject', 'body'], \n",
    "  keep = 'last').reset_index(drop = True) \n",
    "  \n",
    "# print latest dataframe \n",
    "df_bec_alt.describe()"
   ]
  },
  {
   "cell_type": "code",
   "execution_count": null,
   "id": "be694b96-3cb1-4498-8986-8ecfa07a7ace",
   "metadata": {},
   "outputs": [],
   "source": [
    "df_bec_alt['label'].value_counts()"
   ]
  },
  {
   "cell_type": "code",
   "execution_count": null,
   "id": "e37d11c6-e79d-4ff7-8b02-67b89548cf99",
   "metadata": {},
   "outputs": [],
   "source": [
    "try:\n",
    "    os.remove(db_file)\n",
    "except OSError:\n",
    "    pass"
   ]
  },
  {
   "cell_type": "code",
   "execution_count": null,
   "id": "de166360-ae5a-4c7a-bef3-987aefdaeedd",
   "metadata": {},
   "outputs": [],
   "source": [
    "df_bec_alt.to_csv(db_file, index=False)"
   ]
  },
  {
   "cell_type": "code",
   "execution_count": null,
   "id": "04a761ca-baff-48c1-bed8-7d31b5746251",
   "metadata": {},
   "outputs": [],
   "source": []
  }
 ],
 "metadata": {
  "kernelspec": {
   "display_name": "Python 3 (ipykernel)",
   "language": "python",
   "name": "python3"
  },
  "language_info": {
   "codemirror_mode": {
    "name": "ipython",
    "version": 3
   },
   "file_extension": ".py",
   "mimetype": "text/x-python",
   "name": "python",
   "nbconvert_exporter": "python",
   "pygments_lexer": "ipython3",
   "version": "3.9.18"
  }
 },
 "nbformat": 4,
 "nbformat_minor": 5
}
