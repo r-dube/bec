{
 "cells": [
  {
   "cell_type": "code",
   "execution_count": null,
   "id": "920a103d-e592-4767-9dae-06b2cfc3a01c",
   "metadata": {},
   "outputs": [],
   "source": [
    "import os\n",
    "import pandas as pd\n",
    "import wget\n",
    "import openai\n",
    "import dspy\n",
    "from dotenv import load_dotenv\n",
    "import csv"
   ]
  },
  {
   "cell_type": "code",
   "execution_count": null,
   "id": "2f2e6891-ffaf-4fc6-9175-1c1d391a78ae",
   "metadata": {},
   "outputs": [],
   "source": [
    "# files used by the system\n",
    "eg_file = './data/bec_examples_split.csv'\n",
    "db1_file = './data/BEC-1.csv'\n",
    "db2_file = './data/BEC-2.csv'\n",
    "lb1_file = './data/BEC-1-label.csv'\n",
    "lb2_file = './data/BEC-2-label.csv'\n",
    "bec1_file = './data/BEC-1-human.csv'\n",
    "bec2_file = './data/BEC-2-human.csv'"
   ]
  },
  {
   "cell_type": "code",
   "execution_count": null,
   "id": "b24ad7fa-91f8-41b4-8e5a-44dd0250ae47",
   "metadata": {},
   "outputs": [],
   "source": [
    "BEC1_SAMPLES = 5 \n",
    "BEC2_SAMPLES = 75"
   ]
  },
  {
   "cell_type": "code",
   "execution_count": null,
   "id": "3d94a930-b2c7-480c-9200-cf31e8bc8238",
   "metadata": {},
   "outputs": [],
   "source": [
    "db_file = db1_file # db1_file or db2_file\n",
    "lb_file = lb1_file # lb1_file or lb2_file\n",
    "bec_file = bec1_file # bec1_file or bec2_file\n",
    "SAMPLES = BEC1_SAMPLES # BEC1_SAMPLES or BEC2_SAMPLES per example"
   ]
  },
  {
   "cell_type": "code",
   "execution_count": null,
   "id": "1ca08b38-d223-4743-b3eb-3c1c36ed66ba",
   "metadata": {},
   "outputs": [],
   "source": [
    "df_eg = pd.read_csv(eg_file)"
   ]
  },
  {
   "cell_type": "code",
   "execution_count": null,
   "id": "37fa6885-725a-485e-8294-958e72f877f3",
   "metadata": {},
   "outputs": [],
   "source": [
    "df_eg"
   ]
  },
  {
   "cell_type": "code",
   "execution_count": null,
   "id": "40721b74-740c-49f4-9189-a801e1a35309",
   "metadata": {},
   "outputs": [],
   "source": [
    "df_pos = df_eg[df_eg['label'] == \"positive\"]"
   ]
  },
  {
   "cell_type": "code",
   "execution_count": null,
   "id": "5a9bb784-1fd2-4bf9-9315-ecc69b47c910",
   "metadata": {},
   "outputs": [],
   "source": [
    "df_pos"
   ]
  },
  {
   "cell_type": "code",
   "execution_count": null,
   "id": "0a10ad43-77ee-4bb7-8ca4-fc7b748696ad",
   "metadata": {},
   "outputs": [],
   "source": [
    "# keep the API keys in a `.env` file in the local root directory\n",
    "load_dotenv()\n",
    "openai_key = os.getenv('OPENAI_API_KEY')\n",
    "lm = dspy.OpenAI(model='gpt-3.5-turbo', api_key=openai_key) # language model is openai's 3.5-turbo\n",
    "dspy.settings.configure(lm=lm)"
   ]
  },
  {
   "cell_type": "code",
   "execution_count": null,
   "id": "170df91c-0447-44c1-a8ca-2182b36c7126",
   "metadata": {},
   "outputs": [],
   "source": [
    "# signature to generate email variation\n",
    "class EmailSig1(dspy.Signature):\n",
    "    __doc__ = \"\"\" Generate output from input using the following steps: \n",
    "    1. input email subject -> output email subject that is a variation of the input email subject\n",
    "    2. input email body -> output email body that is a variation of the input email body\n",
    "    \"\"\"\n",
    "\n",
    "    input_subject = dspy.InputField(desc=\"input email subject\")\n",
    "    input_body = dspy.InputField(desc=\"input email body\")\n",
    "    output_subject = dspy.OutputField(desc=\"output email subject\")\n",
    "    output_body = dspy.OutputField(desc=\"output email body\")\n",
    "\n",
    "# the generation model\n",
    "class EmailVar1(dspy.Module):\n",
    "    def __init__(self):\n",
    "        super().__init__()\n",
    "        self.max_index = len(df_pos)\n",
    "        self.generate_email = dspy.Predict(EmailSig1)\n",
    "\n",
    "    def forward(self, index, var):\n",
    "        subject = \"\"\n",
    "        body = \"\"\n",
    "        if (index >= self.max_index):\n",
    "            print (\"Error: index is too large\")\n",
    "        else:\n",
    "            subject=df_pos.iloc[index]['subject']\n",
    "            body=df_pos.iloc[index]['body']\n",
    "        return self.generate_email(input_subject=subject, input_body=body, config=dict(temperature=0.7+0.0001*var))"
   ]
  },
  {
   "cell_type": "code",
   "execution_count": null,
   "id": "acf75b60-b4d8-4b23-8144-bd7d7971cf3f",
   "metadata": {},
   "outputs": [],
   "source": [
    "def process_and_add_to_db(subject, body):\n",
    "    print (\"Subject: \", subject, \"Body: \", body)\n",
    "    \n",
    "    with open(db_file,'a') as result_file:\n",
    "        wr = csv.writer(result_file)\n",
    "        wr.writerows([[subject, body]])"
   ]
  },
  {
   "cell_type": "code",
   "execution_count": null,
   "id": "2d2c3e3f-2aef-431f-8b68-2dd0dfd6abbd",
   "metadata": {},
   "outputs": [],
   "source": [
    "try:\n",
    "    os.remove(db_file)\n",
    "except OSError:\n",
    "    pass"
   ]
  },
  {
   "cell_type": "code",
   "execution_count": null,
   "id": "db8fb972-372e-4520-9a68-64a289f50c4e",
   "metadata": {},
   "outputs": [],
   "source": [
    "# test row add to file\n",
    "# process_and_add_to_db(\"hello hello\", \"world world\")"
   ]
  },
  {
   "cell_type": "code",
   "execution_count": null,
   "id": "c2b5c3fc-2959-4759-841d-d083f8f0a4ea",
   "metadata": {},
   "outputs": [],
   "source": [
    "email_model = EmailVar1()\n",
    "num_examples = len(df_pos)\n",
    "num_vars_per_example = SAMPLES\n",
    "for i in range(num_examples):\n",
    "    for j in range(num_vars_per_example):\n",
    "        variant = email_model(index=i, var=j)\n",
    "        process_and_add_to_db(variant.output_subject, variant.output_body)"
   ]
  },
  {
   "cell_type": "code",
   "execution_count": null,
   "id": "baca79ca-508e-4fe6-87ae-e3089620bf8c",
   "metadata": {},
   "outputs": [],
   "source": [
    "# inspect the prompt to the LLM\n",
    "lm.inspect_history(n=2)"
   ]
  },
  {
   "cell_type": "code",
   "execution_count": null,
   "id": "67f646f9-cab8-4e66-8151-a7fc29a63050",
   "metadata": {},
   "outputs": [],
   "source": []
  }
 ],
 "metadata": {
  "kernelspec": {
   "display_name": "Python 3 (ipykernel)",
   "language": "python",
   "name": "python3"
  },
  "language_info": {
   "codemirror_mode": {
    "name": "ipython",
    "version": 3
   },
   "file_extension": ".py",
   "mimetype": "text/x-python",
   "name": "python",
   "nbconvert_exporter": "python",
   "pygments_lexer": "ipython3",
   "version": "3.9.18"
  }
 },
 "nbformat": 4,
 "nbformat_minor": 5
}
