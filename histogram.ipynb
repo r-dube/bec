{
 "cells": [
  {
   "cell_type": "code",
   "execution_count": null,
   "id": "b6c963d8-1e60-434f-803d-388f7bff266a",
   "metadata": {},
   "outputs": [],
   "source": [
    "import os\n",
    "import matplotlib.pyplot as plt\n",
    "import numpy as np"
   ]
  },
  {
   "cell_type": "code",
   "execution_count": null,
   "id": "933d5e4b-e199-4f7e-be39-5990b7f5bfd3",
   "metadata": {},
   "outputs": [],
   "source": [
    "def get_file_lengths(folder_path):\n",
    "    \"\"\"Return a dictionary of {filename: length} for each file in the folder.\"\"\"\n",
    "    lengths = {}\n",
    "    for filename in sorted(os.listdir(folder_path)):\n",
    "        file_path = os.path.join(folder_path, filename)\n",
    "        if os.path.isfile(file_path):\n",
    "            with open(file_path, 'r', encoding='utf-8') as f:\n",
    "                text = f.read()\n",
    "                lengths[filename] = len(text)\n",
    "    return lengths"
   ]
  },
  {
   "cell_type": "code",
   "execution_count": null,
   "id": "7959a38e-2eeb-4f1e-b48d-fc93be30c7d5",
   "metadata": {},
   "outputs": [],
   "source": [
    "def compare_folder_lengths(folder1, folder2):\n",
    "    \"\"\"Compare character lengths of files with the same names in two folders.\"\"\"\n",
    "    lengths1 = get_file_lengths(folder1)\n",
    "    lengths2 = get_file_lengths(folder2)\n",
    "\n",
    "    if set(lengths1.keys()) != set(lengths2.keys()):\n",
    "        raise ValueError(\"Folders do not contain the same files.\")\n",
    "\n",
    "    list1 = [lengths1[filename] for filename in sorted(lengths1)]\n",
    "    list2 = [lengths2[filename] for filename in sorted(lengths2)]\n",
    "\n",
    "    return list1, list2"
   ]
  },
  {
   "cell_type": "code",
   "execution_count": null,
   "id": "d789fb6e-23ef-4ebe-a765-9f4d3b1f24a2",
   "metadata": {},
   "outputs": [],
   "source": [
    "folder1 = \"test/kaminski-v\"\n",
    "folder2 = \"test/kaminski-nyt\"\n",
    "lengths1, lengths2 = compare_folder_lengths(folder1, folder2)\n",
    "print(\"Folder 1 lengths:\", lengths1)\n",
    "print(\"Folder 2 lengths:\", lengths2)"
   ]
  },
  {
   "cell_type": "code",
   "execution_count": null,
   "id": "db113b39-ab89-4ebe-ad85-d31ceb346f99",
   "metadata": {},
   "outputs": [],
   "source": [
    "def plot_binned_file_lengths(lengths1, lengths2, folder1_label='Cleaned', folder2_label='Generated'):\n",
    "    \"\"\"\n",
    "    Plots a grayscale histogram with bins:\n",
    "    - [0–128], [129–256], [257–512], [513–5120]\n",
    "    \"\"\"\n",
    "    # Define new bin edges and labels\n",
    "    bin_edges = [0, 128, 256, 512, 5120]\n",
    "    bin_labels = ['0–128', '129–256', '257–512', '513–5120']\n",
    "\n",
    "    # Cap lengths to max bin value\n",
    "    lengths1_capped = [min(l, 5119) for l in lengths1]\n",
    "    lengths2_capped = [min(l, 5119) for l in lengths2]\n",
    "\n",
    "    # Get histogram counts\n",
    "    counts1, _ = np.histogram(lengths1_capped, bins=bin_edges)\n",
    "    counts2, _ = np.histogram(lengths2_capped, bins=bin_edges)\n",
    "\n",
    "    # X-axis positions (equidistant)\n",
    "    x = np.arange(len(bin_labels))\n",
    "    bar_width = 0.4\n",
    "\n",
    "    # Plot\n",
    "    plt.figure(figsize=(10, 6))\n",
    "    plt.bar(x - bar_width / 2, counts1, width=bar_width, label=folder1_label, color='lightgray')\n",
    "    plt.bar(x + bar_width / 2, counts2, width=bar_width, label=folder2_label, color='dimgray')\n",
    "\n",
    "    # Labeling and styling\n",
    "    plt.xlabel('Character Count Range', fontsize=16)\n",
    "    plt.ylabel('Number of Files', fontsize=16)\n",
    "    # plt.title('Distribution of File Lengths (Grayscale Histogram)', fontsize=16)\n",
    "    plt.xticks(x, bin_labels, rotation=0, fontsize=12)\n",
    "    plt.yticks(fontsize=12)\n",
    "    plt.legend(fontsize=16)\n",
    "    plt.grid(axis='y', linestyle='--', alpha=0.6)\n",
    "    plt.tight_layout()\n",
    "\n",
    "    plt.show()"
   ]
  },
  {
   "cell_type": "code",
   "execution_count": null,
   "id": "364a3a72-fe08-4bc0-b39a-9f3818b2999d",
   "metadata": {},
   "outputs": [],
   "source": [
    "plot_binned_file_lengths(lengths1, lengths2)"
   ]
  },
  {
   "cell_type": "code",
   "execution_count": null,
   "id": "e59d6fd5-0bf4-4b7d-a696-ad5ff3384d60",
   "metadata": {},
   "outputs": [],
   "source": []
  }
 ],
 "metadata": {
  "kernelspec": {
   "display_name": "Python 3 (ipykernel)",
   "language": "python",
   "name": "python3"
  },
  "language_info": {
   "codemirror_mode": {
    "name": "ipython",
    "version": 3
   },
   "file_extension": ".py",
   "mimetype": "text/x-python",
   "name": "python",
   "nbconvert_exporter": "python",
   "pygments_lexer": "ipython3",
   "version": "3.12.3"
  }
 },
 "nbformat": 4,
 "nbformat_minor": 5
}
