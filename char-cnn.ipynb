{
 "cells": [
  {
   "cell_type": "code",
   "execution_count": null,
   "id": "61d458fc-8856-42df-aa78-40d5228f4423",
   "metadata": {},
   "outputs": [],
   "source": [
    "import os\n",
    "import torch\n",
    "import torch.nn as nn\n",
    "import torch.optim as optim\n",
    "from torch.utils.data import Dataset, DataLoader, random_split\n",
    "from sklearn.metrics import f1_score, confusion_matrix\n",
    "from sklearn.metrics import ConfusionMatrixDisplay\n",
    "from sklearn.metrics import roc_curve, roc_auc_score\n",
    "import matplotlib.pyplot as plt\n",
    "import numpy as np\n",
    "import string"
   ]
  },
  {
   "cell_type": "code",
   "execution_count": null,
   "id": "d82a66c7-5bef-4d07-9816-e29d5435c3dd",
   "metadata": {},
   "outputs": [],
   "source": [
    "# Set random seed for repeatability\n",
    "SEED = 42\n",
    "torch.manual_seed(SEED)\n",
    "torch.cuda.manual_seed_all(SEED)\n",
    "np.random.seed(SEED)\n",
    "os.environ['PYTHONHASHSEED'] = str(SEED)"
   ]
  },
  {
   "cell_type": "code",
   "execution_count": null,
   "id": "e02fdf05-ba45-45a8-8726-e7e54814a315",
   "metadata": {},
   "outputs": [],
   "source": [
    "# Character-level processing\n",
    "CHARSET = string.ascii_lowercase + string.ascii_uppercase + string.digits + string.punctuation + ' '\n",
    "CHAR_TO_INDEX = {ch: i + 1 for i, ch in enumerate(CHARSET)}  # 0 is reserved for padding\n",
    "MAX_LEN = 1024  # Use only the first X characters"
   ]
  },
  {
   "cell_type": "code",
   "execution_count": null,
   "id": "f3342ca2-8095-4ce5-b37d-d27d794aeca4",
   "metadata": {},
   "outputs": [],
   "source": [
    "class TextDataset(Dataset):\n",
    "    def __init__(self, folder_path, label):\n",
    "        self.files = [os.path.join(folder_path, f) for f in os.listdir(folder_path)]\n",
    "        self.label = label\n",
    "    \n",
    "    def __len__(self):\n",
    "        return len(self.files)\n",
    "    \n",
    "    def __getitem__(self, idx):\n",
    "        file_path = self.files[idx]\n",
    "        with open(file_path, 'r', encoding='utf-8', errors='ignore') as file:\n",
    "            text = file.read()[:MAX_LEN]\n",
    "        \n",
    "        encoded_text = [CHAR_TO_INDEX.get(ch, 0) for ch in text]  # Convert chars to indices\n",
    "        if len(encoded_text) < MAX_LEN:\n",
    "            encoded_text += [0] * (MAX_LEN - len(encoded_text))  # Pad to MAX_LEN\n",
    "        \n",
    "        return torch.tensor(encoded_text, dtype=torch.long), torch.tensor(self.label, dtype=torch.float32), file_path"
   ]
  },
  {
   "cell_type": "code",
   "execution_count": null,
   "id": "75b934f7-98ad-4399-b4cf-7048bfaebc5e",
   "metadata": {},
   "outputs": [],
   "source": [
    "class CharCNN(nn.Module):\n",
    "    def __init__(self, vocab_size, embed_dim=16, num_filters=64, kernel_sizes=(7, 5, 3), num_classes=1, dropout_rate=0.5):\n",
    "        super(CharCNN, self).__init__()\n",
    "        self.embedding = nn.Embedding(vocab_size, embed_dim, padding_idx=0)\n",
    "        self.conv_layers = nn.ModuleList([nn.Conv1d(embed_dim, num_filters, k) for k in kernel_sizes])\n",
    "        self.batch_norm_layers = nn.ModuleList([nn.BatchNorm1d(num_filters) for _ in kernel_sizes])\n",
    "        self.pool = nn.AdaptiveMaxPool1d(1)\n",
    "        self.fc = nn.Linear(num_filters * len(kernel_sizes), num_classes)\n",
    "        self.dropout = nn.Dropout(dropout_rate)\n",
    "        self.sigmoid = nn.Sigmoid()\n",
    "    \n",
    "    def forward(self, x):\n",
    "        x = self.embedding(x).permute(0, 2, 1)  # (batch, embed_dim, seq_len)\n",
    "        x = [self.batch_norm_layers[i](torch.relu(conv(x))) for i, conv in enumerate(self.conv_layers)]\n",
    "        x = [self.pool(layer).squeeze(-1) for layer in x]\n",
    "        x = torch.cat(x, dim=1)\n",
    "        x = self.dropout(x)\n",
    "        x = self.sigmoid(self.fc(x))\n",
    "        return x"
   ]
  },
  {
   "cell_type": "code",
   "execution_count": null,
   "id": "7cbff8fd-8d4c-41df-9462-b474305eb5bf",
   "metadata": {},
   "outputs": [],
   "source": [
    "# Define paths\n",
    "# negative_folder = \"enron/kaminski-nyt\" # llm generated\n",
    "# negative_folder = \"enron/top11-o\" # 11 enron senders\n",
    "negative_folder = \"enron/BEC-2-emails\" # BEC-2 + llm generated + 11 enron senders \n",
    "# negative_folder = \"enron/nyt-alt\" # BEC-2 + 11 enron senders; to be deleted\n",
    "# positive_folder = \"enron/kaminski-v\" # kaminski-v sender\n",
    "# positive_folder = \"enron/kaminski-nyt\"\n",
    "positive_folder = \"enron/stclair-c\" # stclair-c sender"
   ]
  },
  {
   "cell_type": "code",
   "execution_count": null,
   "id": "4d5f1b27-351b-4243-b544-dd947d968448",
   "metadata": {},
   "outputs": [],
   "source": [
    "# Prepare datasets\n",
    "negative_dataset = TextDataset(negative_folder, 0)\n",
    "positive_dataset = TextDataset(positive_folder, 1)\n",
    "\n",
    "dataset = negative_dataset + positive_dataset\n",
    "train_size = int(0.8 * len(dataset))\n",
    "test_size = len(dataset) - train_size\n",
    "train_dataset, test_dataset = random_split(dataset, [train_size, test_size])\n",
    "\n",
    "train_loader = DataLoader(train_dataset, batch_size=32, shuffle=True)\n",
    "test_loader = DataLoader(test_dataset, batch_size=32, shuffle=False)"
   ]
  },
  {
   "cell_type": "code",
   "execution_count": null,
   "id": "a12875fb-ab15-4337-a704-c52fd294dd8e",
   "metadata": {},
   "outputs": [],
   "source": [
    "# Model setup\n",
    "vocab_size = len(CHAR_TO_INDEX) + 1  # +1 for padding character\n",
    "model = CharCNN(vocab_size)\n",
    "criterion = nn.BCELoss()\n",
    "optimizer = optim.AdamW(model.parameters(), lr=0.001, weight_decay=1e-4)\n",
    "scheduler = optim.lr_scheduler.ReduceLROnPlateau(optimizer, mode='min', factor=0.5, patience=5, verbose=True)"
   ]
  },
  {
   "cell_type": "code",
   "execution_count": null,
   "id": "4623f87f-f742-49f2-9c16-904fab82759b",
   "metadata": {},
   "outputs": [],
   "source": [
    "def train_model(model, train_loader, criterion, optimizer, scheduler, epochs=100, patience=10):\n",
    "    model.train()\n",
    "    best_loss = float('inf')\n",
    "    patience_counter = 0\n",
    "    for epoch in range(epochs):\n",
    "        total_loss = 0\n",
    "        for inputs, labels, file_paths in train_loader:\n",
    "            optimizer.zero_grad()\n",
    "            outputs = model(inputs).squeeze()\n",
    "            loss = criterion(outputs, labels)\n",
    "            loss.backward()\n",
    "            optimizer.step()\n",
    "            total_loss += loss.item()\n",
    "        \n",
    "        avg_loss = total_loss / len(train_loader)\n",
    "        scheduler.step(avg_loss)\n",
    "        print(f\"Epoch {epoch+1}, Loss: {avg_loss:.6f}, LR: {optimizer.param_groups[0]['lr']:.6f}\")\n",
    "        \n",
    "        if avg_loss < best_loss:\n",
    "            best_loss = avg_loss\n",
    "            patience_counter = 0\n",
    "        else:\n",
    "            patience_counter += 1\n",
    "        \n",
    "        if patience_counter >= patience:\n",
    "            print(\"Early stopping triggered.\")\n",
    "            break"
   ]
  },
  {
   "cell_type": "code",
   "execution_count": null,
   "id": "80bcf0ad-d6cb-4766-9051-722c4f4fcdae",
   "metadata": {},
   "outputs": [],
   "source": [
    "def evaluate_model(model, test_loader):\n",
    "    model.eval()\n",
    "    correct = 0\n",
    "    total = 0\n",
    "    all_labels = []\n",
    "    all_predictions = []\n",
    "    false_positives = []\n",
    "    false_negatives = []\n",
    "\n",
    "    with torch.no_grad():\n",
    "        for inputs, labels, paths in test_loader:\n",
    "            outputs = model(inputs).squeeze()\n",
    "            predicted = (outputs >= 0.5).float()\n",
    "            total += labels.size(0)\n",
    "            correct += (predicted == labels).sum().item()\n",
    "            all_labels.extend(labels.tolist())\n",
    "            all_predictions.extend(predicted.tolist())\n",
    "\n",
    "            # Identify FP and FN\n",
    "            for i in range(len(labels)):\n",
    "                true_label = labels[i].item()\n",
    "                pred_label = predicted[i].item()\n",
    "                if true_label == 0 and pred_label == 1:\n",
    "                    false_positives.append(paths[i])\n",
    "                elif true_label == 1 and pred_label == 0:\n",
    "                    false_negatives.append(paths[i])\n",
    "    \n",
    "    accuracy = 100 * correct / total\n",
    "    f1 = f1_score(all_labels, all_predictions, average='macro')\n",
    "    cm = confusion_matrix(all_labels, all_predictions)\n",
    "    tn, fp, fn, tp = cm.ravel()\n",
    "    false_positive_rate = fp / (fp + tn)\n",
    "    \n",
    "    print(f\"Test Accuracy: {accuracy:.2f}%\")\n",
    "    print(f\"F1 Score: {f1:.4f}\")\n",
    "    print(f\"False Positive: {fp}\")\n",
    "    print(f\"False Negatives: {fn}\")\n",
    "\n",
    "    # Print files corresponding to FPs and FNs\n",
    "    print(\"\\nFalse Positives:\")\n",
    "    for fp_path in false_positives:\n",
    "        print(f\"  {fp_path}\")\n",
    "\n",
    "    print(\"\\nFalse Negatives:\")\n",
    "    for fn_path in false_negatives:\n",
    "        print(f\"  {fn_path}\")\n",
    "\n",
    "    # Display the confusion matrix\n",
    "    cm_labels = np.array([1, 0])\n",
    "    ConfusionMatrixDisplay.from_predictions(all_labels, all_predictions, colorbar=False, labels=cm_labels, cmap='binary')\n",
    "    plt.show()"
   ]
  },
  {
   "cell_type": "code",
   "execution_count": null,
   "id": "79cdb5ff-0d3a-4d40-81d1-86d8b8fb8e4d",
   "metadata": {},
   "outputs": [],
   "source": [
    "def evaluate_model_with_roc(model, test_loader):\n",
    "    model.eval()\n",
    "    all_labels = []\n",
    "    all_probs = []\n",
    "\n",
    "    with torch.no_grad():\n",
    "        for inputs, labels, _ in test_loader:\n",
    "            outputs = model(inputs).squeeze()\n",
    "            probs = outputs.detach().cpu().numpy()\n",
    "            all_probs.extend(probs)\n",
    "            all_labels.extend(labels.cpu().numpy())\n",
    "\n",
    "    # Compute ROC-AUC\n",
    "    fpr, tpr, thresholds = roc_curve(all_labels, all_probs)\n",
    "    auc_score = roc_auc_score(all_labels, all_probs)\n",
    "\n",
    "    print(f\"ROC AUC Score: {auc_score:.4f}\")\n",
    "\n",
    "    # Plot ROC Curve\n",
    "    plt.figure()\n",
    "    plt.plot(fpr, tpr, color='black', label=f'ROC curve (AUC = {auc_score:.4f})')\n",
    "    plt.plot([0, 1], [0, 1], color='gray', linestyle='--', label='Random Classifier')\n",
    "    plt.xlabel('False Positive Rate')\n",
    "    plt.ylabel('True Positive Rate')\n",
    "    # plt.title('ROC Curve - Char-CNN Classifier')\n",
    "    plt.legend(loc='lower right')\n",
    "    plt.grid(alpha=0.3)\n",
    "    plt.tight_layout()\n",
    "    plt.show()"
   ]
  },
  {
   "cell_type": "code",
   "execution_count": null,
   "id": "b7a9277b-4962-4559-a9d6-0b22264b8d44",
   "metadata": {},
   "outputs": [],
   "source": [
    "%%time\n",
    "train_model(model, train_loader, criterion, optimizer, scheduler, epochs=100, patience=10)"
   ]
  },
  {
   "cell_type": "code",
   "execution_count": null,
   "id": "fb61930d-5590-4856-aa64-645942b0b1ec",
   "metadata": {},
   "outputs": [],
   "source": [
    "%%time\n",
    "evaluate_model(model, test_loader)"
   ]
  },
  {
   "cell_type": "code",
   "execution_count": null,
   "id": "7a5093ee-d6bf-4fbe-8902-a86c93e28e5a",
   "metadata": {},
   "outputs": [],
   "source": [
    "\"\"\"\n",
    "evaluate_model_with_roc(model, test_loader)\n",
    "\"\"\""
   ]
  },
  {
   "cell_type": "code",
   "execution_count": null,
   "id": "38e2ffc8-3ce4-465b-815b-27d917470214",
   "metadata": {},
   "outputs": [],
   "source": [
    "\"\"\"\n",
    "from torchviz import make_dot\n",
    "\n",
    "# Create a dummy input and get model output\n",
    "vocab_size = len(CHAR_TO_INDEX) + 1  # +1 for padding character\n",
    "dummy_input = torch.randint(0, vocab_size, (1, MAX_LEN), dtype=torch.long)\n",
    "output = model(dummy_input)\n",
    "\n",
    "# Visualize the graph\n",
    "dot = make_dot(output, params=dict(model.named_parameters()))\n",
    "dot.format = 'png'\n",
    "dot.render(\"char_cnn_model\")\n",
    "\"\"\""
   ]
  },
  {
   "cell_type": "code",
   "execution_count": null,
   "id": "f1c3fb62-f666-4c86-8f56-d4e689aa37cf",
   "metadata": {},
   "outputs": [],
   "source": [
    "total_params = sum(p.numel() for p in model.parameters())\n",
    "print(f\"Number of parameters: {total_params}\")"
   ]
  },
  {
   "cell_type": "code",
   "execution_count": null,
   "id": "38202350-08da-4e3d-9739-fbd9759dab10",
   "metadata": {},
   "outputs": [],
   "source": [
    "from torchinfo import summary\n",
    "\n",
    "summary(model, input_size=(32, 1024), dtypes=[torch.long])"
   ]
  },
  {
   "cell_type": "code",
   "execution_count": null,
   "id": "d2c88644-98c6-43f2-9514-92eba1d5f2be",
   "metadata": {},
   "outputs": [],
   "source": []
  }
 ],
 "metadata": {
  "kernelspec": {
   "display_name": "Python 3 (ipykernel)",
   "language": "python",
   "name": "python3"
  },
  "language_info": {
   "codemirror_mode": {
    "name": "ipython",
    "version": 3
   },
   "file_extension": ".py",
   "mimetype": "text/x-python",
   "name": "python",
   "nbconvert_exporter": "python",
   "pygments_lexer": "ipython3",
   "version": "3.12.10"
  }
 },
 "nbformat": 4,
 "nbformat_minor": 5
}
