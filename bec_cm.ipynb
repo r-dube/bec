{
 "cells": [
  {
   "cell_type": "code",
   "execution_count": null,
   "id": "b2294e71-5dfd-4d1d-8f23-528075aca597",
   "metadata": {},
   "outputs": [],
   "source": [
    "import pandas as pd\n",
    "import numpy as np\n",
    "import sklearn\n",
    "from sklearn.metrics import confusion_matrix, ConfusionMatrixDisplay\n",
    "import matplotlib.pyplot as plt"
   ]
  },
  {
   "cell_type": "code",
   "execution_count": null,
   "id": "f0d33602-cc9c-4eed-af64-d4a61dd9b530",
   "metadata": {},
   "outputs": [],
   "source": [
    "print('The scikit-learn version is {}.'.format(sklearn.__version__))"
   ]
  },
  {
   "cell_type": "code",
   "execution_count": null,
   "id": "a8f258be-a196-4a63-b7eb-7931d560a999",
   "metadata": {},
   "outputs": [],
   "source": [
    "# files used by the system\n",
    "eg_file = './data/bec_examples_split.csv'\n",
    "db1_file = './data/BEC-1.csv'\n",
    "db2_file = './data/BEC-2.csv'\n",
    "lb1_file = './data/BEC-1-label.csv'\n",
    "lb2_file = './data/BEC-2-label.csv'\n",
    "bec1_file = './data/BEC-1-human.csv'\n",
    "bec2_file = './data/BEC-2-human.csv'"
   ]
  },
  {
   "cell_type": "code",
   "execution_count": null,
   "id": "e5517557-9496-4347-aa2e-4584f0d47d60",
   "metadata": {},
   "outputs": [],
   "source": [
    "cm_labels=np.array(['positive', 'neutral'])"
   ]
  },
  {
   "cell_type": "code",
   "execution_count": null,
   "id": "101b822a-b336-4177-9fe0-225bef7ea1b5",
   "metadata": {},
   "outputs": [],
   "source": [
    "df_bec1 = pd.read_csv(bec1_file)\n",
    "ConfusionMatrixDisplay.from_predictions(df_bec1['Human'], df_bec1['Model'], colorbar=False, labels=cm_labels, cmap='binary')\n",
    "plt.show()"
   ]
  },
  {
   "cell_type": "code",
   "execution_count": null,
   "id": "589cf521-8847-427d-8b9e-db999a8c29db",
   "metadata": {},
   "outputs": [],
   "source": [
    "df_bec2 = pd.read_csv(bec2_file)\n",
    "ConfusionMatrixDisplay.from_predictions(df_bec2['Human'], df_bec2['Model'], colorbar=False, labels=cm_labels, cmap='binary')\n",
    "plt.show()"
   ]
  },
  {
   "cell_type": "code",
   "execution_count": null,
   "id": "ed477633",
   "metadata": {},
   "outputs": [],
   "source": []
  }
 ],
 "metadata": {
  "kernelspec": {
   "display_name": "Python 3 (ipykernel)",
   "language": "python",
   "name": "python3"
  },
  "language_info": {
   "codemirror_mode": {
    "name": "ipython",
    "version": 3
   },
   "file_extension": ".py",
   "mimetype": "text/x-python",
   "name": "python",
   "nbconvert_exporter": "python",
   "pygments_lexer": "ipython3",
   "version": "3.11.5"
  }
 },
 "nbformat": 4,
 "nbformat_minor": 5
}
